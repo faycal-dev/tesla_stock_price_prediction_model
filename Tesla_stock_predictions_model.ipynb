{
 "cells": [
  {
   "cell_type": "code",
   "execution_count": 1,
   "id": "0afbaa73",
   "metadata": {},
   "outputs": [],
   "source": [
    "# the dataset URL:\n",
    "# https://www.kaggle.com/ammaraahmad/tesla-stocks-history"
   ]
  },
  {
   "cell_type": "code",
   "execution_count": 2,
   "id": "f500f7f2",
   "metadata": {},
   "outputs": [],
   "source": [
    "import numpy as np\n",
    "import pandas as pd\n",
    "import matplotlib.pyplot as plt"
   ]
  },
  {
   "cell_type": "code",
   "execution_count": 3,
   "id": "f3aa3031",
   "metadata": {},
   "outputs": [
    {
     "data": {
      "text/html": [
       "<div>\n",
       "<style scoped>\n",
       "    .dataframe tbody tr th:only-of-type {\n",
       "        vertical-align: middle;\n",
       "    }\n",
       "\n",
       "    .dataframe tbody tr th {\n",
       "        vertical-align: top;\n",
       "    }\n",
       "\n",
       "    .dataframe thead th {\n",
       "        text-align: right;\n",
       "    }\n",
       "</style>\n",
       "<table border=\"1\" class=\"dataframe\">\n",
       "  <thead>\n",
       "    <tr style=\"text-align: right;\">\n",
       "      <th></th>\n",
       "      <th>Date</th>\n",
       "      <th>Open</th>\n",
       "      <th>High</th>\n",
       "      <th>Low</th>\n",
       "      <th>Close</th>\n",
       "      <th>Adj Close</th>\n",
       "      <th>Volume</th>\n",
       "    </tr>\n",
       "  </thead>\n",
       "  <tbody>\n",
       "    <tr>\n",
       "      <th>0</th>\n",
       "      <td>2010-06-29</td>\n",
       "      <td>3.800</td>\n",
       "      <td>5.000</td>\n",
       "      <td>3.508</td>\n",
       "      <td>4.778</td>\n",
       "      <td>4.778</td>\n",
       "      <td>93831500</td>\n",
       "    </tr>\n",
       "    <tr>\n",
       "      <th>1</th>\n",
       "      <td>2010-06-30</td>\n",
       "      <td>5.158</td>\n",
       "      <td>6.084</td>\n",
       "      <td>4.660</td>\n",
       "      <td>4.766</td>\n",
       "      <td>4.766</td>\n",
       "      <td>85935500</td>\n",
       "    </tr>\n",
       "    <tr>\n",
       "      <th>2</th>\n",
       "      <td>2010-07-01</td>\n",
       "      <td>5.000</td>\n",
       "      <td>5.184</td>\n",
       "      <td>4.054</td>\n",
       "      <td>4.392</td>\n",
       "      <td>4.392</td>\n",
       "      <td>41094000</td>\n",
       "    </tr>\n",
       "    <tr>\n",
       "      <th>3</th>\n",
       "      <td>2010-07-02</td>\n",
       "      <td>4.600</td>\n",
       "      <td>4.620</td>\n",
       "      <td>3.742</td>\n",
       "      <td>3.840</td>\n",
       "      <td>3.840</td>\n",
       "      <td>25699000</td>\n",
       "    </tr>\n",
       "    <tr>\n",
       "      <th>4</th>\n",
       "      <td>2010-07-06</td>\n",
       "      <td>4.000</td>\n",
       "      <td>4.000</td>\n",
       "      <td>3.166</td>\n",
       "      <td>3.222</td>\n",
       "      <td>3.222</td>\n",
       "      <td>34334500</td>\n",
       "    </tr>\n",
       "  </tbody>\n",
       "</table>\n",
       "</div>"
      ],
      "text/plain": [
       "         Date   Open   High    Low  Close  Adj Close    Volume\n",
       "0  2010-06-29  3.800  5.000  3.508  4.778      4.778  93831500\n",
       "1  2010-06-30  5.158  6.084  4.660  4.766      4.766  85935500\n",
       "2  2010-07-01  5.000  5.184  4.054  4.392      4.392  41094000\n",
       "3  2010-07-02  4.600  4.620  3.742  3.840      3.840  25699000\n",
       "4  2010-07-06  4.000  4.000  3.166  3.222      3.222  34334500"
      ]
     },
     "execution_count": 3,
     "metadata": {},
     "output_type": "execute_result"
    }
   ],
   "source": [
    "df = pd.read_csv(\"archive/TSLA.csv\")\n",
    "df.head()"
   ]
  },
  {
   "cell_type": "code",
   "execution_count": 4,
   "id": "4f0d35c0",
   "metadata": {},
   "outputs": [
    {
     "data": {
      "text/html": [
       "<div>\n",
       "<style scoped>\n",
       "    .dataframe tbody tr th:only-of-type {\n",
       "        vertical-align: middle;\n",
       "    }\n",
       "\n",
       "    .dataframe tbody tr th {\n",
       "        vertical-align: top;\n",
       "    }\n",
       "\n",
       "    .dataframe thead th {\n",
       "        text-align: right;\n",
       "    }\n",
       "</style>\n",
       "<table border=\"1\" class=\"dataframe\">\n",
       "  <thead>\n",
       "    <tr style=\"text-align: right;\">\n",
       "      <th></th>\n",
       "      <th>Date</th>\n",
       "      <th>Open</th>\n",
       "      <th>High</th>\n",
       "      <th>Low</th>\n",
       "      <th>Close</th>\n",
       "      <th>Adj Close</th>\n",
       "      <th>Volume</th>\n",
       "    </tr>\n",
       "  </thead>\n",
       "  <tbody>\n",
       "    <tr>\n",
       "      <th>2808</th>\n",
       "      <td>2021-08-24</td>\n",
       "      <td>710.679993</td>\n",
       "      <td>715.219971</td>\n",
       "      <td>702.640015</td>\n",
       "      <td>708.489990</td>\n",
       "      <td>708.489990</td>\n",
       "      <td>13083100</td>\n",
       "    </tr>\n",
       "    <tr>\n",
       "      <th>2809</th>\n",
       "      <td>2021-08-25</td>\n",
       "      <td>707.030029</td>\n",
       "      <td>716.969971</td>\n",
       "      <td>704.000000</td>\n",
       "      <td>711.200012</td>\n",
       "      <td>711.200012</td>\n",
       "      <td>12645600</td>\n",
       "    </tr>\n",
       "    <tr>\n",
       "      <th>2810</th>\n",
       "      <td>2021-08-26</td>\n",
       "      <td>708.309998</td>\n",
       "      <td>715.400024</td>\n",
       "      <td>697.619995</td>\n",
       "      <td>701.159973</td>\n",
       "      <td>701.159973</td>\n",
       "      <td>13214300</td>\n",
       "    </tr>\n",
       "    <tr>\n",
       "      <th>2811</th>\n",
       "      <td>2021-08-27</td>\n",
       "      <td>705.000000</td>\n",
       "      <td>715.000000</td>\n",
       "      <td>702.099976</td>\n",
       "      <td>711.919983</td>\n",
       "      <td>711.919983</td>\n",
       "      <td>13762100</td>\n",
       "    </tr>\n",
       "    <tr>\n",
       "      <th>2812</th>\n",
       "      <td>2021-08-30</td>\n",
       "      <td>714.719971</td>\n",
       "      <td>731.000000</td>\n",
       "      <td>712.729980</td>\n",
       "      <td>730.909973</td>\n",
       "      <td>730.909973</td>\n",
       "      <td>18502400</td>\n",
       "    </tr>\n",
       "  </tbody>\n",
       "</table>\n",
       "</div>"
      ],
      "text/plain": [
       "            Date        Open        High         Low       Close   Adj Close  \\\n",
       "2808  2021-08-24  710.679993  715.219971  702.640015  708.489990  708.489990   \n",
       "2809  2021-08-25  707.030029  716.969971  704.000000  711.200012  711.200012   \n",
       "2810  2021-08-26  708.309998  715.400024  697.619995  701.159973  701.159973   \n",
       "2811  2021-08-27  705.000000  715.000000  702.099976  711.919983  711.919983   \n",
       "2812  2021-08-30  714.719971  731.000000  712.729980  730.909973  730.909973   \n",
       "\n",
       "        Volume  \n",
       "2808  13083100  \n",
       "2809  12645600  \n",
       "2810  13214300  \n",
       "2811  13762100  \n",
       "2812  18502400  "
      ]
     },
     "execution_count": 4,
     "metadata": {},
     "output_type": "execute_result"
    }
   ],
   "source": [
    "# we have stock prices from 2010 to 2021\n",
    "df.tail()"
   ]
  },
  {
   "cell_type": "code",
   "execution_count": 5,
   "id": "db54fb2a",
   "metadata": {},
   "outputs": [
    {
     "data": {
      "text/plain": [
       "(2813, 7)"
      ]
     },
     "execution_count": 5,
     "metadata": {},
     "output_type": "execute_result"
    }
   ],
   "source": [
    "df.shape"
   ]
  },
  {
   "cell_type": "code",
   "execution_count": 6,
   "id": "0caaebd8",
   "metadata": {},
   "outputs": [
    {
     "name": "stdout",
     "output_type": "stream",
     "text": [
      "<class 'pandas.core.frame.DataFrame'>\n",
      "RangeIndex: 2813 entries, 0 to 2812\n",
      "Data columns (total 7 columns):\n",
      " #   Column     Non-Null Count  Dtype  \n",
      "---  ------     --------------  -----  \n",
      " 0   Date       2813 non-null   object \n",
      " 1   Open       2813 non-null   float64\n",
      " 2   High       2813 non-null   float64\n",
      " 3   Low        2813 non-null   float64\n",
      " 4   Close      2813 non-null   float64\n",
      " 5   Adj Close  2813 non-null   float64\n",
      " 6   Volume     2813 non-null   int64  \n",
      "dtypes: float64(5), int64(1), object(1)\n",
      "memory usage: 154.0+ KB\n"
     ]
    }
   ],
   "source": [
    "df.info()\n",
    "# all the columns are numerical exept the date"
   ]
  },
  {
   "cell_type": "code",
   "execution_count": 7,
   "id": "ce4e7997",
   "metadata": {},
   "outputs": [
    {
     "data": {
      "text/plain": [
       "Date         0\n",
       "Open         0\n",
       "High         0\n",
       "Low          0\n",
       "Close        0\n",
       "Adj Close    0\n",
       "Volume       0\n",
       "dtype: int64"
      ]
     },
     "execution_count": 7,
     "metadata": {},
     "output_type": "execute_result"
    }
   ],
   "source": [
    "df.isnull().sum()\n",
    "# we don't have any missing values in the data"
   ]
  },
  {
   "cell_type": "code",
   "execution_count": 8,
   "id": "2f73e5f5",
   "metadata": {},
   "outputs": [
    {
     "data": {
      "text/plain": [
       "0    3.800\n",
       "1    5.158\n",
       "2    5.000\n",
       "3    4.600\n",
       "4    4.000\n",
       "Name: Open, dtype: float64"
      ]
     },
     "execution_count": 8,
     "metadata": {},
     "output_type": "execute_result"
    }
   ],
   "source": [
    "# since i an not a stock expert i will take only the open culumn for prediction\n",
    "data = df[\"Open\"]\n",
    "data.head()"
   ]
  },
  {
   "cell_type": "code",
   "execution_count": 9,
   "id": "5578a0ea",
   "metadata": {},
   "outputs": [
    {
     "data": {
      "text/plain": [
       "[<matplotlib.lines.Line2D at 0x1dd6b27f580>]"
      ]
     },
     "execution_count": 9,
     "metadata": {},
     "output_type": "execute_result"
    },
    {
     "data": {
      "image/png": "[encoded data removed]",
      "text/plain": [
       "<Figure size 864x432 with 1 Axes>"
      ]
     },
     "metadata": {
      "needs_background": "light"
     },
     "output_type": "display_data"
    }
   ],
   "source": [
    "# lets plot this column\n",
    "plt.figure(figsize=(12,6))\n",
    "plt.plot(data)"
   ]
  },
  {
   "cell_type": "code",
   "execution_count": 10,
   "id": "d9696427",
   "metadata": {},
   "outputs": [
    {
     "name": "stdout",
     "output_type": "stream",
     "text": [
      "2109\n"
     ]
    }
   ],
   "source": [
    "from sklearn.preprocessing import MinMaxScaler\n",
    "# we will predict a day stock based on the last 100 days\n",
    "train_size = int(len(data) * 0.75)\n",
    "# lstm require normelized and scaled data between 0-1 so we well use minMx scaler and for that we reshape our data\n",
    "data = np.array(data)\n",
    "data = data.reshape(data.shape[0],1)\n",
    "\n",
    "scaler=MinMaxScaler(feature_range=(0,1))\n",
    "data = scaler.fit_transform(data)\n",
    "\n",
    "train = data[:train_size]\n",
    "test = data[train_size:]\n",
    "print(train_size)"
   ]
  },
  {
   "cell_type": "code",
   "execution_count": 11,
   "id": "864caa86",
   "metadata": {},
   "outputs": [],
   "source": [
    "def extract_XY(dataset):\n",
    "    x,y=[],[]    \n",
    "#   here we create our x and y\n",
    "    for i in range(100, len(dataset)):\n",
    "        x.append(dataset[i-100 : i , 0])\n",
    "        y.append(dataset[i , 0])\n",
    "    return np.array(x), np.array(y)"
   ]
  },
  {
   "cell_type": "code",
   "execution_count": 12,
   "id": "338700b8",
   "metadata": {},
   "outputs": [],
   "source": [
    "x_train,y_train = extract_XY(train)\n",
    "x_test,y_test = extract_XY(test)"
   ]
  },
  {
   "cell_type": "code",
   "execution_count": 13,
   "id": "47c3fdb8",
   "metadata": {},
   "outputs": [
    {
     "data": {
      "text/plain": [
       "((2009, 100), (2009,))"
      ]
     },
     "execution_count": 13,
     "metadata": {},
     "output_type": "execute_result"
    }
   ],
   "source": [
    "x_train.shape ,y_train.shape "
   ]
  },
  {
   "cell_type": "code",
   "execution_count": 14,
   "id": "f220d90b",
   "metadata": {},
   "outputs": [
    {
     "data": {
      "text/plain": [
       "((604, 100), (604,))"
      ]
     },
     "execution_count": 14,
     "metadata": {},
     "output_type": "execute_result"
    }
   ],
   "source": [
    "x_test.shape ,y_test.shape "
   ]
  },
  {
   "cell_type": "code",
   "execution_count": 15,
   "id": "8b7e1261",
   "metadata": {},
   "outputs": [
    {
     "data": {
      "text/plain": [
       "((2009, 100, 1), (604, 100, 1))"
      ]
     },
     "execution_count": 15,
     "metadata": {},
     "output_type": "execute_result"
    }
   ],
   "source": [
    "# LSTM expect 3D input  in the form of [samples, time steps, features] so we need to reshape X\n",
    "x_train = x_train.reshape(x_train.shape[0], x_train.shape[1],1)\n",
    "x_test = x_test.reshape(x_test.shape[0], x_test.shape[1], 1)\n",
    "x_train.shape, x_test.shape\n",
    "# here he last value is 1 because we take only the open price it can be a vector of open,close ore any other variable"
   ]
  },
  {
   "cell_type": "code",
   "execution_count": 16,
   "id": "c4254534",
   "metadata": {},
   "outputs": [
    {
     "data": {
      "text/plain": [
       "array([[2.17305145e-03],\n",
       "       [1.99515397e-03],\n",
       "       [1.54478061e-03],\n",
       "       [8.69220579e-04],\n",
       "       [5.85485364e-05],\n",
       "       [0.00000000e+00],\n",
       "       [3.24268817e-04],\n",
       "       [4.07587888e-04],\n",
       "       [2.81483348e-04],\n",
       "       [4.05336021e-04]])"
      ]
     },
     "execution_count": 16,
     "metadata": {},
     "output_type": "execute_result"
    }
   ],
   "source": [
    "x_train[1,:10]\n",
    "# all the values are scaled between 0 and 1"
   ]
  },
  {
   "cell_type": "markdown",
   "id": "1f2222ee",
   "metadata": {},
   "source": [
    "<h1>the Model</h1>"
   ]
  },
  {
   "cell_type": "code",
   "execution_count": 17,
   "id": "6daec5e4",
   "metadata": {},
   "outputs": [],
   "source": [
    "from tensorflow.keras.models import Sequential\n",
    "from tensorflow.keras.layers import LSTM, Dense, Dropout, Bidirectional"
   ]
  },
  {
   "cell_type": "code",
   "execution_count": 18,
   "id": "35126452",
   "metadata": {},
   "outputs": [],
   "source": [
    "model = Sequential()"
   ]
  },
  {
   "cell_type": "code",
   "execution_count": 19,
   "id": "9d75c680",
   "metadata": {},
   "outputs": [],
   "source": [
    "# here i am going to use stacked lstm layers\n",
    "model.add(LSTM(80, return_sequences=True, input_shape=(100,1)))\n",
    "model.add(Dropout(0.2))\n",
    "\n",
    "model.add(LSTM(70, return_sequences=True))\n",
    "model.add(Dropout(0.2))\n",
    "\n",
    "model.add(LSTM(60))\n",
    "model.add(Dropout(0.2))\n",
    "\n",
    "# no activation is specified so f(x)=x \"i have used sigmoid and it does not work\"\n",
    "model.add(Dense(1))\n",
    "# we use mean square error because we are predicting a number not a categorie the less the error is the better\n",
    "model.compile(loss=\"mean_squared_error\", optimizer='adam')"
   ]
  },
  {
   "cell_type": "markdown",
   "id": "b2a1deb9",
   "metadata": {},
   "source": [
    "<h1>important : </h1>\n",
    "<p>mean_squared_error is used when we are predicting a number and not classes<br>\n",
    "for classification we use:<br>\n",
    "binary_crossentropy for binary classificaton (true or false)<br>\n",
    "categorical_crossentropy is used when our y_train is oneHot encoded expl for 3 classes we have ([0,0,1],[0,1,0],[1,0,0])<br>\n",
    "spars_categorical_crossentropy is used when our y_tain is in the form of : ([1],[2],[3])</p>"
   ]
  },
  {
   "cell_type": "code",
   "execution_count": 20,
   "id": "cbd6da3c",
   "metadata": {},
   "outputs": [
    {
     "name": "stdout",
     "output_type": "stream",
     "text": [
      "Epoch 1/50\n",
      "32/32 [==============================] - 9s 279ms/step - loss: 2.3953e-04\n",
      "Epoch 2/50\n",
      "32/32 [==============================] - 8s 260ms/step - loss: 3.2978e-05\n",
      "Epoch 3/50\n",
      "32/32 [==============================] - 8s 259ms/step - loss: 2.8807e-05\n",
      "Epoch 4/50\n",
      "32/32 [==============================] - 8s 260ms/step - loss: 3.3726e-05\n",
      "Epoch 5/50\n",
      "32/32 [==============================] - 8s 264ms/step - loss: 2.7045e-05\n",
      "Epoch 6/50\n",
      "32/32 [==============================] - 9s 268ms/step - loss: 2.3905e-05\n",
      "Epoch 7/50\n",
      "32/32 [==============================] - 8s 264ms/step - loss: 2.3693e-05\n",
      "Epoch 8/50\n",
      "32/32 [==============================] - 9s 276ms/step - loss: 2.1552e-05\n",
      "Epoch 9/50\n",
      "32/32 [==============================] - 8s 263ms/step - loss: 2.2111e-05\n",
      "Epoch 10/50\n",
      "32/32 [==============================] - 9s 267ms/step - loss: 2.1599e-05\n",
      "Epoch 11/50\n",
      "32/32 [==============================] - 8s 264ms/step - loss: 2.1146e-05\n",
      "Epoch 12/50\n",
      "32/32 [==============================] - 8s 258ms/step - loss: 2.0171e-05\n",
      "Epoch 13/50\n",
      "32/32 [==============================] - 9s 272ms/step - loss: 1.8922e-05\n",
      "Epoch 14/50\n",
      "32/32 [==============================] - 8s 257ms/step - loss: 1.8687e-05\n",
      "Epoch 15/50\n",
      "32/32 [==============================] - 9s 271ms/step - loss: 1.7290e-05\n",
      "Epoch 16/50\n",
      "32/32 [==============================] - 8s 259ms/step - loss: 1.7151e-05\n",
      "Epoch 17/50\n",
      "32/32 [==============================] - 8s 264ms/step - loss: 1.7446e-05\n",
      "Epoch 18/50\n",
      "32/32 [==============================] - 8s 262ms/step - loss: 1.7528e-05\n",
      "Epoch 19/50\n",
      "32/32 [==============================] - 8s 264ms/step - loss: 1.6649e-05\n",
      "Epoch 20/50\n",
      "32/32 [==============================] - 9s 272ms/step - loss: 1.6176e-05\n",
      "Epoch 21/50\n",
      "32/32 [==============================] - 8s 258ms/step - loss: 1.6489e-05\n",
      "Epoch 22/50\n",
      "32/32 [==============================] - 9s 274ms/step - loss: 1.6294e-05\n",
      "Epoch 23/50\n",
      "32/32 [==============================] - 8s 259ms/step - loss: 1.6378e-05\n",
      "Epoch 24/50\n",
      "32/32 [==============================] - 8s 260ms/step - loss: 1.5085e-05\n",
      "Epoch 25/50\n",
      "32/32 [==============================] - 9s 277ms/step - loss: 1.3264e-05\n",
      "Epoch 26/50\n",
      "32/32 [==============================] - 8s 259ms/step - loss: 1.4434e-05\n",
      "Epoch 27/50\n",
      "32/32 [==============================] - 9s 272ms/step - loss: 1.4540e-05\n",
      "Epoch 28/50\n",
      "32/32 [==============================] - 8s 260ms/step - loss: 1.4905e-05\n",
      "Epoch 29/50\n",
      "32/32 [==============================] - 8s 265ms/step - loss: 1.3977e-05\n",
      "Epoch 30/50\n",
      "32/32 [==============================] - 8s 265ms/step - loss: 1.1995e-05\n",
      "Epoch 31/50\n",
      "32/32 [==============================] - 8s 261ms/step - loss: 1.2840e-05\n",
      "Epoch 32/50\n",
      "32/32 [==============================] - 9s 271ms/step - loss: 1.2957e-05\n",
      "Epoch 33/50\n",
      "32/32 [==============================] - 8s 261ms/step - loss: 1.2831e-05\n",
      "Epoch 34/50\n",
      "32/32 [==============================] - 9s 283ms/step - loss: 1.3520e-05\n",
      "Epoch 35/50\n",
      "32/32 [==============================] - 8s 264ms/step - loss: 1.5711e-05\n",
      "Epoch 36/50\n",
      "32/32 [==============================] - 9s 268ms/step - loss: 1.2641e-05\n",
      "Epoch 37/50\n",
      "32/32 [==============================] - 8s 262ms/step - loss: 1.1529e-05\n",
      "Epoch 38/50\n",
      "32/32 [==============================] - 8s 259ms/step - loss: 1.1864e-05\n",
      "Epoch 39/50\n",
      "32/32 [==============================] - 9s 267ms/step - loss: 1.1678e-05\n",
      "Epoch 40/50\n",
      "32/32 [==============================] - 8s 261ms/step - loss: 1.1039e-05\n",
      "Epoch 41/50\n",
      "32/32 [==============================] - 9s 270ms/step - loss: 1.1827e-05\n",
      "Epoch 42/50\n",
      "32/32 [==============================] - 8s 264ms/step - loss: 1.2435e-05\n",
      "Epoch 43/50\n",
      "32/32 [==============================] - 9s 268ms/step - loss: 1.0176e-05\n",
      "Epoch 44/50\n",
      "32/32 [==============================] - 8s 265ms/step - loss: 1.1191e-05\n",
      "Epoch 45/50\n",
      "32/32 [==============================] - 8s 263ms/step - loss: 1.2089e-05\n",
      "Epoch 46/50\n",
      "32/32 [==============================] - 9s 270ms/step - loss: 1.1170e-05\n",
      "Epoch 47/50\n",
      "32/32 [==============================] - 8s 258ms/step - loss: 1.3849e-05\n",
      "Epoch 48/50\n",
      "32/32 [==============================] - 9s 271ms/step - loss: 1.4418e-05\n",
      "Epoch 49/50\n",
      "32/32 [==============================] - 8s 258ms/step - loss: 1.3316e-05\n",
      "Epoch 50/50\n",
      "32/32 [==============================] - 9s 269ms/step - loss: 1.1152e-05\n"
     ]
    },
    {
     "data": {
      "text/plain": [
       "<tensorflow.python.keras.callbacks.History at 0x1dd7c90aeb0>"
      ]
     },
     "execution_count": 20,
     "metadata": {},
     "output_type": "execute_result"
    }
   ],
   "source": [
    "model.fit(x_train, y_train, epochs=50, batch_size=64)"
   ]
  },
  {
   "cell_type": "code",
   "execution_count": 21,
   "id": "a0b10789",
   "metadata": {},
   "outputs": [
    {
     "name": "stdout",
     "output_type": "stream",
     "text": [
      "19/19 [==============================] - 1s 55ms/step - loss: 0.0048\n"
     ]
    },
    {
     "data": {
      "text/plain": [
       "0.0047982847318053246"
      ]
     },
     "execution_count": 21,
     "metadata": {},
     "output_type": "execute_result"
    }
   ],
   "source": [
    "model.evaluate(x_test,y_test)"
   ]
  },
  {
   "cell_type": "code",
   "execution_count": 29,
   "id": "89036c78",
   "metadata": {},
   "outputs": [],
   "source": [
    "# we have a low loss that is good now lets plot the real data and pedicted one\n",
    "y_train_pred = model.predict(x_train)\n",
    "y_test_pred = model.predict(x_test)"
   ]
  },
  {
   "cell_type": "code",
   "execution_count": 30,
   "id": "dbb8a195",
   "metadata": {},
   "outputs": [],
   "source": [
    "# we ned to inverse the scale\n",
    "y_train_pred = scaler.inverse_transform(y_train_pred)\n",
    "y_test_pred = scaler.inverse_transform(y_test_pred)"
   ]
  },
  {
   "cell_type": "code",
   "execution_count": 31,
   "id": "9cc015b6",
   "metadata": {},
   "outputs": [
    {
     "data": {
      "image/png": "[encoded data removed]",
      "text/plain": [
       "<Figure size 864x432 with 1 Axes>"
      ]
     },
     "metadata": {
      "needs_background": "light"
     },
     "output_type": "display_data"
    }
   ],
   "source": [
    "look_back=100\n",
    "trainPredictPlot = np.empty_like(data)\n",
    "trainPredictPlot[:, :] = np.nan\n",
    "trainPredictPlot[look_back:len(y_train_pred)+look_back, :] = y_train_pred\n",
    "# shift test predictions for plotting\n",
    "testPredictPlot = np.empty_like(data)\n",
    "testPredictPlot[:, :] = np.nan\n",
    "testPredictPlot[len(y_train_pred)+(look_back*2):len(data), :] = y_test_pred\n",
    "# plot baseline and predictions\n",
    "plt.figure(figsize=(12,6))\n",
    "plt.plot(scaler.inverse_transform(data))\n",
    "plt.plot(trainPredictPlot)\n",
    "plt.plot(testPredictPlot)\n",
    "plt.show()"
   ]
  },
  {
   "cell_type": "code",
   "execution_count": 33,
   "id": "803a5ae6",
   "metadata": {},
   "outputs": [],
   "source": [
    "# lets try bidirectional lstm\n",
    "model1 = Sequential()\n",
    "model1.add(Bidirectional(LSTM(80, return_sequences=True, input_shape=(100,1))))\n",
    "model1.add(Dropout(0.2))\n",
    "\n",
    "model1.add(Bidirectional(LSTM(70, return_sequences=True)))\n",
    "model1.add(Dropout(0.2))\n",
    "\n",
    "model1.add(Bidirectional(LSTM(60)))\n",
    "model1.add(Dropout(0.2))\n",
    "\n",
    "model1.add(Dense(1))\n",
    "model1.compile(loss=\"mean_squared_error\", optimizer='adam')"
   ]
  },
  {
   "cell_type": "code",
   "execution_count": 34,
   "id": "e7be9639",
   "metadata": {},
   "outputs": [
    {
     "name": "stdout",
     "output_type": "stream",
     "text": [
      "Epoch 1/50\n",
      "32/32 [==============================] - 16s 503ms/step - loss: 2.0155e-04\n",
      "Epoch 2/50\n",
      "32/32 [==============================] - 16s 515ms/step - loss: 3.1383e-05\n",
      "Epoch 3/50\n",
      "32/32 [==============================] - 16s 508ms/step - loss: 2.1407e-05\n",
      "Epoch 4/50\n",
      "32/32 [==============================] - 16s 504ms/step - loss: 1.9947e-05\n",
      "Epoch 5/50\n",
      "32/32 [==============================] - 16s 515ms/step - loss: 1.8981e-05\n",
      "Epoch 6/50\n",
      "32/32 [==============================] - 16s 504ms/step - loss: 1.8557e-05\n",
      "Epoch 7/50\n",
      "32/32 [==============================] - 17s 525ms/step - loss: 1.6983e-05\n",
      "Epoch 8/50\n",
      "32/32 [==============================] - 16s 509ms/step - loss: 2.0750e-05\n",
      "Epoch 9/50\n",
      "32/32 [==============================] - 16s 513ms/step - loss: 1.5341e-05\n",
      "Epoch 10/50\n",
      "32/32 [==============================] - 16s 509ms/step - loss: 1.6927e-05\n",
      "Epoch 11/50\n",
      "32/32 [==============================] - 17s 521ms/step - loss: 1.5445e-05\n",
      "Epoch 12/50\n",
      "32/32 [==============================] - 16s 503ms/step - loss: 1.4652e-05\n",
      "Epoch 13/50\n",
      "32/32 [==============================] - 16s 515ms/step - loss: 1.3983e-05\n",
      "Epoch 14/50\n",
      "32/32 [==============================] - 16s 510ms/step - loss: 1.3031e-05\n",
      "Epoch 15/50\n",
      "32/32 [==============================] - 17s 518ms/step - loss: 1.3155e-05\n",
      "Epoch 16/50\n",
      "32/32 [==============================] - 16s 515ms/step - loss: 1.2806e-05\n",
      "Epoch 17/50\n",
      "32/32 [==============================] - 16s 504ms/step - loss: 1.7664e-05\n",
      "Epoch 18/50\n",
      "32/32 [==============================] - 16s 512ms/step - loss: 1.8307e-05\n",
      "Epoch 19/50\n",
      "32/32 [==============================] - 16s 501ms/step - loss: 1.1948e-05\n",
      "Epoch 20/50\n",
      "32/32 [==============================] - 17s 523ms/step - loss: 1.1158e-05\n",
      "Epoch 21/50\n",
      "32/32 [==============================] - 16s 505ms/step - loss: 1.1301e-05\n",
      "Epoch 22/50\n",
      "32/32 [==============================] - 16s 503ms/step - loss: 1.1642e-05\n",
      "Epoch 23/50\n",
      "32/32 [==============================] - 26s 810ms/step - loss: 9.8188e-06\n",
      "Epoch 24/50\n",
      "32/32 [==============================] - 17s 520ms/step - loss: 1.0077e-05\n",
      "Epoch 25/50\n",
      "32/32 [==============================] - 15s 476ms/step - loss: 1.1018e-05\n",
      "Epoch 26/50\n",
      "32/32 [==============================] - 15s 484ms/step - loss: 1.0270e-05\n",
      "Epoch 27/50\n",
      "32/32 [==============================] - 16s 488ms/step - loss: 1.1452e-05\n",
      "Epoch 28/50\n",
      "32/32 [==============================] - 15s 481ms/step - loss: 1.0457e-05\n",
      "Epoch 29/50\n",
      "32/32 [==============================] - 16s 491ms/step - loss: 9.8179e-06\n",
      "Epoch 30/50\n",
      "32/32 [==============================] - 15s 481ms/step - loss: 1.1080e-05\n",
      "Epoch 31/50\n",
      "32/32 [==============================] - 15s 482ms/step - loss: 9.8694e-06\n",
      "Epoch 32/50\n",
      "32/32 [==============================] - 16s 492ms/step - loss: 1.0401e-05\n",
      "Epoch 33/50\n",
      "32/32 [==============================] - 15s 477ms/step - loss: 9.3577e-06\n",
      "Epoch 34/50\n",
      "32/32 [==============================] - 15s 478ms/step - loss: 1.1175e-05\n",
      "Epoch 35/50\n",
      "32/32 [==============================] - 17s 540ms/step - loss: 9.3993e-06\n",
      "Epoch 36/50\n",
      "32/32 [==============================] - 17s 530ms/step - loss: 1.0013e-05\n",
      "Epoch 37/50\n",
      "32/32 [==============================] - 15s 480ms/step - loss: 8.6617e-06\n",
      "Epoch 38/50\n",
      "32/32 [==============================] - 15s 478ms/step - loss: 1.1240e-05\n",
      "Epoch 39/50\n",
      "32/32 [==============================] - 15s 477ms/step - loss: 8.4986e-06\n",
      "Epoch 40/50\n",
      "32/32 [==============================] - 16s 485ms/step - loss: 8.5807e-06\n",
      "Epoch 41/50\n",
      "32/32 [==============================] - 15s 481ms/step - loss: 9.2277e-06\n",
      "Epoch 42/50\n",
      "32/32 [==============================] - 15s 477ms/step - loss: 8.7504e-06\n",
      "Epoch 43/50\n",
      "32/32 [==============================] - 16s 491ms/step - loss: 8.7285e-06\n",
      "Epoch 44/50\n",
      "32/32 [==============================] - 15s 472ms/step - loss: 8.3261e-06\n",
      "Epoch 45/50\n",
      "32/32 [==============================] - 15s 474ms/step - loss: 8.2004e-06\n",
      "Epoch 46/50\n",
      "32/32 [==============================] - 16s 487ms/step - loss: 9.1430e-06\n",
      "Epoch 47/50\n",
      "32/32 [==============================] - 15s 473ms/step - loss: 1.1191e-05\n",
      "Epoch 48/50\n",
      "32/32 [==============================] - 15s 474ms/step - loss: 9.3520e-06\n",
      "Epoch 49/50\n",
      "32/32 [==============================] - 16s 485ms/step - loss: 8.5994e-06\n",
      "Epoch 50/50\n",
      "32/32 [==============================] - 15s 476ms/step - loss: 7.5144e-06\n"
     ]
    },
    {
     "data": {
      "text/plain": [
       "<tensorflow.python.keras.callbacks.History at 0x1dd0c0e9c40>"
      ]
     },
     "execution_count": 34,
     "metadata": {},
     "output_type": "execute_result"
    }
   ],
   "source": [
    "model1.fit(x_train, y_train, epochs=50, batch_size=64)"
   ]
  },
  {
   "cell_type": "code",
   "execution_count": 35,
   "id": "2ca97194",
   "metadata": {},
   "outputs": [
    {
     "name": "stdout",
     "output_type": "stream",
     "text": [
      "19/19 [==============================] - 2s 80ms/step - loss: 0.0051\n"
     ]
    },
    {
     "data": {
      "text/plain": [
       "0.005116070620715618"
      ]
     },
     "execution_count": 35,
     "metadata": {},
     "output_type": "execute_result"
    }
   ],
   "source": [
    "model1.evaluate(x_test,y_test)"
   ]
  },
  {
   "cell_type": "code",
   "execution_count": 36,
   "id": "95b570dd",
   "metadata": {},
   "outputs": [],
   "source": [
    "y_train_pred1 = scaler.inverse_transform(model.predict(x_train))\n",
    "y_test_pred1 = scaler.inverse_transform(model.predict(x_test))"
   ]
  },
  {
   "cell_type": "code",
   "execution_count": 37,
   "id": "bad87898",
   "metadata": {},
   "outputs": [
    {
     "data": {
      "image/png": "[encoded data removed]",
      "text/plain": [
       "<Figure size 864x432 with 1 Axes>"
      ]
     },
     "metadata": {
      "needs_background": "light"
     },
     "output_type": "display_data"
    }
   ],
   "source": [
    "look_back=100\n",
    "trainPredictPlot = np.empty_like(data)\n",
    "trainPredictPlot[:, :] = np.nan\n",
    "trainPredictPlot[look_back:len(y_train_pred1)+look_back, :] = y_train_pred1\n",
    "# shift test predictions for plotting\n",
    "testPredictPlot = np.empty_like(data)\n",
    "testPredictPlot[:, :] = np.nan\n",
    "testPredictPlot[len(y_train_pred1)+(look_back*2):len(data), :] = y_test_pred1\n",
    "# plot baseline and predictions\n",
    "plt.figure(figsize=(12,6))\n",
    "plt.plot(scaler.inverse_transform(data))\n",
    "plt.plot(trainPredictPlot)\n",
    "plt.plot(testPredictPlot)\n",
    "plt.show()"
   ]
  },
  {
   "cell_type": "code",
   "execution_count": null,
   "id": "7ba94869",
   "metadata": {},
   "outputs": [],
   "source": []
  }
 ],
 "metadata": {
  "kernelspec": {
   "display_name": "Python 3",
   "language": "python",
   "name": "python3"
  },
  "language_info": {
   "codemirror_mode": {
    "name": "ipython",
    "version": 3
   },
   "file_extension": ".py",
   "mimetype": "text/x-python",
   "name": "python",
   "nbconvert_exporter": "python",
   "pygments_lexer": "ipython3",
   "version": "3.8.8"
  }
 },
 "nbformat": 4,
 "nbformat_minor": 5
}
